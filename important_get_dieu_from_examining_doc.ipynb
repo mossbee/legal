{
 "cells": [
  {
   "cell_type": "code",
   "execution_count": 1,
   "metadata": {},
   "outputs": [],
   "source": [
    "import docx\n",
    "import json\n",
    "\n",
    "doc = docx.Document('11_2015_TT-BXD_301622.docx')\n",
    "\n",
    "dieu_document = {}\n",
    "\n",
    "document_para_len = len(doc.paragraphs)\n",
    "\n",
    "document_start_found = False\n",
    "document_end_found = False\n",
    "\n",
    "for i in range(document_para_len):\n",
    "\tif not document_start_found:\n",
    "\t\t# if ith paragraph starts with \"Điều \"\n",
    "\t\tif doc.paragraphs[i].text.startswith(\"Điều \"):\n",
    "\t\t\tdocument_start_index = i\n",
    "\t\t\tdocument_start_found = True\n",
    "\t\t\tcontinue\n",
    "\tif not document_end_found:\n",
    "\t\tif doc.paragraphs[i].text.lower().startswith(\"phụ lục\"):\n",
    "\t\t\tdocument_end_index = i\n",
    "\t\t\tdocument_end_found = True\n",
    "\t\t\tcontinue\n",
    "\n",
    "if not document_end_found:\n",
    "\tdocument_end_index = document_para_len\n",
    "\n",
    "\n",
    "for i in range(document_start_index, document_end_index):\n",
    "\tif doc.paragraphs[i].text.startswith(\"Điều \"):\n",
    "\t\tarticle_number = doc.paragraphs[i].text.split(\" \")[1][:-1]\n",
    "\t\tif article_number not in dieu_document:\n",
    "\t\t\tdieu_document[article_number] = doc.paragraphs[i].text\n",
    "\telse:\n",
    "\t\tdieu_document[article_number] += \" \" + doc.paragraphs[i].text\n",
    "\n",
    "with open(\"11_2015_TT-BXD_301622_dieu_document.json\", \"w\", encoding=\"utf-8\") as f:\n",
    "\tjson.dump(dieu_document, f, ensure_ascii=False, indent=4)\n",
    "\t\t"
   ]
  },
  {
   "cell_type": "code",
   "execution_count": 2,
   "metadata": {},
   "outputs": [],
   "source": [
    "import docx\n",
    "import json\n",
    "\n",
    "doc = docx.Document('11_2015_TT-BXD_301622.docx')\n",
    "\n",
    "dieu_document = {}\n",
    "\n",
    "for para in doc.paragraphs:\n",
    "\tif para.text.startswith(\"Điều \"):\n",
    "\t\tarticle_number = para.text.split(\" \")[1][:-1]\n",
    "\t\tif article_number not in dieu_document:\n",
    "\t\t\tdieu_document[article_number] = para.text\n",
    "\t\telse:\n",
    "\t\t\tdieu_document[article_number] += \" \" + para.text\n",
    "\n",
    "with open(\"11_2015_TT-BXD_301622_dieu_document_only.json\", \"w\", encoding=\"utf-8\") as f:\n",
    "\tjson.dump(dieu_document, f, ensure_ascii=False, indent=4)"
   ]
  }
 ],
 "metadata": {
  "kernelspec": {
   "display_name": "Python 3",
   "language": "python",
   "name": "python3"
  },
  "language_info": {
   "codemirror_mode": {
    "name": "ipython",
    "version": 3
   },
   "file_extension": ".py",
   "mimetype": "text/x-python",
   "name": "python",
   "nbconvert_exporter": "python",
   "pygments_lexer": "ipython3",
   "version": "3.11.2"
  }
 },
 "nbformat": 4,
 "nbformat_minor": 2
}
