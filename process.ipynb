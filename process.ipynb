{
 "cells": [
  {
   "cell_type": "markdown",
   "metadata": {},
   "source": [
    "# 1. Preliminaries"
   ]
  },
  {
   "cell_type": "markdown",
   "metadata": {},
   "source": [
    "Hàm bỏ dấu và viết thường"
   ]
  },
  {
   "cell_type": "code",
   "execution_count": 32,
   "metadata": {},
   "outputs": [],
   "source": [
    "from unidecode import unidecode\n",
    "\n",
    "def remove_accents_and_lowercase(text):\n",
    "    return unidecode(text).lower()"
   ]
  },
  {
   "cell_type": "markdown",
   "metadata": {},
   "source": [
    "Danh sách cơ quan ban hành VB QPPL"
   ]
  },
  {
   "cell_type": "code",
   "execution_count": 31,
   "metadata": {},
   "outputs": [],
   "source": [
    "state_agencies = {\n",
    "    \"quoc hoi\",\n",
    "    \"uy ban thuong vu quoc hoi\",\n",
    "    \"doan chu tich uy ban trung uong mat tran to quoc viet nam\",\n",
    "    \"chinh phu\",\n",
    "    \"chu tich nuoc\",\n",
    "    \"thu tuong chinh phu\",\n",
    "    \"hoi dong tham phan toa an nhan dan toi cao\",\n",
    "    \"toa an nhan dan toi cao\",\n",
    "    \"vien kiem sat nhan dan toi cao\",\n",
    "    \"tong kiem toan nha nuoc\",\n",
    "    \"tong kiem toan nha nuoc\",\n",
    "    \"bo quoc phong\",\n",
    "    \"bo cong an\",\n",
    "    \"bo ngoai giao\",\n",
    "    \"bo tu phap\",\n",
    "    \"bo tai chinh\",\n",
    "    \"bo cong thuong\",\n",
    "    \"bo lao dong thuong binh va xa hoi\",\n",
    "    \"bo giao thong van tai\",\n",
    "    \"bo xay dung\",\n",
    "    \"bo thong tin va truyen thong\",\n",
    "    \"bo giao duc va dao tao\",\n",
    "    \"bo nong nghiep va phat trien nong thon\",\n",
    "    \"bo ke hoach va dau tu\",\n",
    "    \"bo noi vu\",\n",
    "    \"bo y te\",\n",
    "    \"bo khoa hoc va cong nghe\",\n",
    "    \"bo van hoa the thao va du lich\",\n",
    "    \"bo tai nguyen va moi truong\",\n",
    "    \"van phong chinh phu\",\n",
    "    \"than tra chinh phu\",\n",
    "    \"ngan hang nha nuoc\",\n",
    "    \"uy ban dan toc\",\n",
    "    \"hoi dong nhan dan\",\n",
    "    \"uy ban nhan dan\",\n",
    "}"
   ]
  },
  {
   "cell_type": "markdown",
   "metadata": {},
   "source": [
    "Hàm đọc paragraph trong docx"
   ]
  },
  {
   "cell_type": "code",
   "execution_count": 2,
   "metadata": {},
   "outputs": [],
   "source": [
    "import docx\n",
    "\n",
    "def readdocx(filename):\n",
    "    doc = docx.Document(filename)\n",
    "    fullText = []\n",
    "    for para in doc.paragraphs:\n",
    "        fullText.append(para.text)\n",
    "    # return '\\n'.join(fullText)\n",
    "    return fullText"
   ]
  },
  {
   "cell_type": "markdown",
   "metadata": {},
   "source": [
    "Hàm đọc table trong docx"
   ]
  },
  {
   "cell_type": "code",
   "execution_count": 14,
   "metadata": {},
   "outputs": [],
   "source": [
    "import docx\n",
    "\n",
    "def extractTable(filename):\n",
    "\tdoc = docx.Document(filename)\n",
    "\ttables = doc.tables\n",
    "\tfullTextTable = []\n",
    "\tfor table in tables:\n",
    "\t\tfor row in table.rows:\n",
    "\t\t\tfor cell in row.cells:\n",
    "\t\t\t\tfullTextTable.append(cell.text)\n",
    "\treturn fullTextTable"
   ]
  },
  {
   "cell_type": "markdown",
   "metadata": {},
   "source": [
    "Lọc para chứa 1 điều"
   ]
  },
  {
   "cell_type": "code",
   "execution_count": 1,
   "metadata": {},
   "outputs": [
    {
     "name": "stdout",
     "output_type": "stream",
     "text": [
      "['Điều 3. Đối tượng không chịu thuế', 'Đối tượng không chịu thuế giá trị gia tăng thực hiện theo quy định tại Điều 5 Luật thuế giá trị gia tăng và Khoản 1 Điều 1 Luật sửa đổi, bổ sung một số điều của Luật thuế giá trị gia tăng.', '1. Đối với các sản phẩm quy định tại Khoản 1 Điều 5 Luật thuế giá trị gia tăng \\xa0qua sơ chế thông thường là sản phẩm mới được làm sạch, phơi, sấy khô, bóc vỏ, tách hạt, cắt, ướp muối, bảo quản lạnh và các hình thức bảo quản thông thường khác.', '2. Một số dịch vụ quy định tại Khoản 8 Điều 5 Luật thuế giá trị gia tăng và Khoản 1 Điều 1 Luật sửa đổi, bổ sung một số điều của Luật thuế giá trị gia tăng được quy định như sau:', 'a) Dịch vụ cấp tín dụng gồm các hình thức:', '- Cho vay;', '- Chiết khấu, tái chiết khấu công cụ chuyển nhượng và các giấy tờ có giá khác;', '- Bảo lãnh;', '- Cho thuê tài chính;', '- Phát hành thẻ tín dụng;', '- Bao thanh toán trong nước; bao thanh toán quốc tế;', '- Bán tài sản bảo đảm tiền vay;', '- Cung cấp thông tin tín dụng theo quy định của Luật ngân hàng nhà nước;', '- Hình thức cấp tín dụng khác theo quy định của pháp luật.', 'b) Dịch vụ cho vay của người nộp thuế không phải là tổ chức tín dụng;', 'c) Kinh doanh chứng khoán bao gồm: Môi giới chứng khoán, tự doanh chứng khoán, bảo lãnh phát hành chứng khoán, tư vấn đầu tư chứng khoán, lưu ký chứng khoán, quản lý quỹ đầu tư chứng khoán, quản lý công ty đầu tư chứng khoán, quản lý danh mục đầu tư chứng khoán, dịch vụ tổ chức thị trường của sở giao dịch chứng khoán hoặc trung tâm giao dịch chứng khoán, dịch vụ liên quan đến chứng khoán đăng ký, lưu ký tại Trung tâm Lưu ký Chứng khoán Việt Nam, cho khách hàng vay tiền để thực hiện giao dịch ký quỹ, ứng trước tiền bán chứng khoán và hoạt động kinh doanh chứng khoán khác theo quy định của pháp luật về chứng khoán.', 'd) Chuyển nhượng vốn bao gồm việc chuyển nhượng một phần hoặc toàn bộ số vốn đã đầu tư, kể cả trường hợp bán doanh nghiệp cho doanh nghiệp khác để sản xuất kinh doanh, chuyển nhượng chứng khoán, chuyển nhượng quyền góp vốn và các hình thức chuyển nhượng vốn khác theo quy định của pháp luật.', 'đ) Bán nợ.', 'e) Kinh doanh ngoại tệ.', 'g) Bán tài sản bảo đảm của khoản nợ của tổ chức mà Nhà nước sở hữu 100% vốn điều lệ do Chính phủ thành lập để xử lý nợ xấu của các tổ chức tín dụng Việt Nam.', '3. Dịch vụ khám, chữa bệnh quy định tại Khoản 9 Điều 5 Luật thuế giá trị gia tăng \\xa0bao gồm cả vận chuyển, xét nghiệm, chiếu, chụp, máu và chế phẩm máu dùng cho người bệnh.', '4. Dịch vụ duy trì vườn thú, vườn hoa, công viên, cây xanh đường phố, chiếu sáng công cộng; dịch vụ tang lễ.', 'Bộ Tài chính hướng dẫn cụ thể dịch vụ không thuộc đối tượng chịu thuế quy định tại Khoản này.', '5. Đối với hoạt động duy tu, sửa chữa, xây dựng các công trình quy định tại Khoản 12 Điều 5 Luật thuế giá trị gia tăng nếu có sử dụng nguồn vốn khác ngoài nguồn vốn đóng góp của nhân dân (bao gồm cả vốn đóng góp, tài trợ của tổ chức, cá nhân), vốn viện trợ nhân đạo mà nguồn vốn khác không vượt quá 50% tổng số vốn sử dụng cho công trình thì đối tượng không chịu thuế là toàn bộ giá trị công trình.', 'Đối tượng chính sách xã hội bao gồm: Người có công theo quy định của pháp luật về người có công; đối tượng bảo trợ xã hội hưởng trợ cấp từ ngân sách nhà nước; người thuộc hộ nghèo, cận nghèo và các trường hợp khác theo quy định của pháp luật.', '6. Vận chuyển hành khách công cộng quy định tại Khoản 16 Điều 5 Luật thuế giá trị gia tăng gồm vận chuyển hành khách công cộng bằng xe buýt, xe điện theo các tuyến trong nội tỉnh, trong đô thị và các tuyến lân cận ngoại tỉnh theo quy định của cơ quan nhà nước có thẩm quyền.', '7. Tàu bay quy định tại Khoản 17 Điều 5 Luật thuế giá trị gia tăng và Khoản 1 Điều 1 Luật sửa đổi, bổ sung một số điều của Luật thuế giá trị gia tăng bao gồm cả động cơ tàu bay.', 'Bộ Kế hoạch và Đầu tư chủ trì, phối hợp với cơ quan liên quan ban hành Danh mục máy móc, thiết bị, phụ tùng, vật tư thuộc loại trong nước đã sản xuất được để làm cơ sở phân biệt với loại trong nước chưa sản xuất được cần nhập khẩu sử dụng trực tiếp cho hoạt động nghiên cứu khoa học và phát triển công nghệ; Danh mục máy móc, thiết bị, phụ tùng thay thế, phương tiện vận tải chuyên dùng và vật tư thuộc loại trong nước đã sản xuất được làm cơ sở phân biệt với loại trong nước chưa sản xuất được cần nhập khẩu để tiến hành hoạt động tìm kiếm thăm dò, phát triển mỏ dầu, khí đốt; Danh mục tàu bay, dàn khoan, tàu thủy thuộc loại trong nước đã sản xuất được làm cơ sở phân biệt với loại trong nước chưa sản xuất được cần nhập khẩu tạo tài sản cố định của doanh nghiệp, thuê của nước ngoài sử dụng cho sản xuất, kinh doanh, để cho thuê và cho thuê lại.', '8. Vũ khí, khí tài chuyên dùng phục vụ quốc phòng, an ninh quy định tại Khoản 18 Điều 5 Luật thuế giá trị gia tăng do Bộ Quốc phòng, Bộ Công an chủ trì, thống nhất với Bộ Tài chính quy định cụ thể.', '9. Hàng hóa nhập khẩu quy định tại Khoản 19 Điều 5 của Luật thuế giá trị gia tăng được quy định cụ thể như sau:', 'a) Đối với hàng viện trợ nhân đạo, viện trợ không hoàn lại nhập khẩu phải được cơ quan nhà nước có thẩm quyền phê duyệt.', 'b) Đối với quà tặng cho các cơ quan nhà nước, tổ chức chính trị, tổ chức chính trị - xã hội, tổ chức chính trị xã hội - nghề nghiệp, tổ chức xã hội, tổ chức xã hội - nghề nghiệp, đơn vị vũ trang nhân dân thực hiện theo quy định của pháp luật về quà biếu, quà tặng.', 'c) Định mức hàng hóa nhập khẩu là quà biếu, quà tặng cho cá nhân tại Việt Nam thực hiện theo quy định của pháp luật về quà biếu, quà tặng.', 'd) Đồ dùng của tổ chức, cá nhân nước ngoài theo tiêu chuẩn miễn trừ ngoại giao; hàng mang theo người trong tiêu chuẩn hành lý miễn thuế.', 'đ) Hàng hóa, dịch vụ bán cho tổ chức, cá nhân nước ngoài, tổ chức quốc tế để viện trợ nhân đạo, viện trợ không hoàn lại cho Việt Nam.', '10. Trường hợp chuyển giao công nghệ, chuyển nhượng quyền sở hữu trí tuệ theo quy định tại Khoản 21 Điều 5 Luật thuế giá trị gia tăng mà có kèm theo chuyển giao máy móc, thiết bị thì đối tượng không chịu thuế giá trị gia tăng tính trên phần giá trị công nghệ, quyền sở hữu trí tuệ chuyển giao, chuyển nhượng; trường hợp không tách riêng được thì thuế giá trị gia tăng được tính trên cả phần giá trị công nghệ, quyền sở hữu trí tuệ chuyển giao, chuyển nhượng cùng với máy móc, thiết bị.', '11. Sản phẩm xuất khẩu là tài nguyên, khoáng sản khai thác chưa chế biến thành sản phẩm khác.', 'Bộ Tài chính chủ trì, phối hợp với các cơ quan liên quan hướng dẫn cụ thể việc xác định tài nguyên, khoáng sản khai thác chưa được chế biến thành sản phẩm khác quy định tại Khoản này.', '12. Hàng hóa, dịch vụ của hộ, cá nhân kinh doanh có mức doanh thu hàng năm từ một trăm triệu đồng trở xuống.', 'Bộ Tài chính hướng dẫn hộ, cá nhân kinh doanh có mức doanh thu từ một trăm triệu đồng trở xuống không chịu thuế giá trị gia tăng quy định tại Khoản này.', 'Chương 2.', 'CĂN CỨ VÀ PHƯƠNG PHÁP TÍNH THUẾ']\n"
     ]
    }
   ],
   "source": [
    "from docx import Document\n",
    "\n",
    "# Read the document\n",
    "doc = Document(\"209_2013_ND-CP_216679.docx\")\n",
    "\n",
    "# Initialize variables\n",
    "start = False\n",
    "paragraphs = []\n",
    "\n",
    "# Iterate over paragraphs\n",
    "for paragraph in doc.paragraphs:\n",
    "\t# Check if the paragraph starts with \"Điều 3\"\n",
    "\tif paragraph.text.startswith(\"Điều 3\"):\n",
    "\t\tstart = True\n",
    "\t# Check if the paragraph starts with \"Điều 4\"\n",
    "\telif paragraph.text.startswith(\"Điều 4\"):\n",
    "\t\tstart = False\n",
    "\t# Add the paragraph to the list if it's between \"Điều 3\" and \"Điều 4\"\n",
    "\tif start:\n",
    "\t\tparagraphs.append(paragraph.text)\n",
    "\n",
    "# Print the extracted paragraphs\n",
    "print(paragraphs)"
   ]
  },
  {
   "cell_type": "code",
   "execution_count": null,
   "metadata": {},
   "outputs": [],
   "source": [
    "from docx import Document\n",
    "\n",
    "# Read the document\n",
    "doc = Document(\"67_2014_QH13_259729.docx\")\n",
    "\n",
    "# Initialize variables\n",
    "start = False\n",
    "paragraphs = []\n",
    "\n",
    "for paragraph in doc.paragraphs:\n",
    "\tif paragraph.text.startswith(\"Điều 7\"):\n",
    "\t\tstart = True\n",
    "\telif paragraph.text.startswith(\"Điều 8\"):\n",
    "\t\tstart = False\n",
    "\tif start:\n",
    "\t\tparagraphs.append(paragraph.text)"
   ]
  },
  {
   "cell_type": "markdown",
   "metadata": {},
   "source": [
    "# 2. Process"
   ]
  },
  {
   "cell_type": "code",
   "execution_count": null,
   "metadata": {},
   "outputs": [],
   "source": [
    "luat_dau_tu = readdocx('209_2013_ND-CP_216679.docx')\n",
    "for para in luat_dau_tu:\n",
    "\tprint(para, \"\\n\")"
   ]
  },
  {
   "cell_type": "code",
   "execution_count": null,
   "metadata": {},
   "outputs": [],
   "source": [
    "luat_dau_tu_table = extractTable('67_2014_QH13_259729.docx')\n",
    "for para in luat_dau_tu_table:\n",
    "\tprint(para, \"\\n\")"
   ]
  },
  {
   "cell_type": "code",
   "execution_count": 1,
   "metadata": {},
   "outputs": [
    {
     "name": "stdout",
     "output_type": "stream",
     "text": [
      "[2, 2, 4, 4, 3, 3, 2]\n"
     ]
    }
   ],
   "source": [
    "import docx\n",
    "\n",
    "def count_table_columns(filename):\n",
    "\tdoc = docx.Document(filename)\n",
    "\ttable_columns = []\n",
    "\tfor table in doc.tables:\n",
    "\t\tnum_columns = len(table.columns)\n",
    "\t\ttable_columns.append(num_columns)\n",
    "\treturn table_columns\n",
    "\n",
    "filename = \"67_2014_QH13_259729.docx\"\n",
    "table_columns = count_table_columns(filename)\n",
    "print(table_columns)"
   ]
  },
  {
   "cell_type": "code",
   "execution_count": null,
   "metadata": {},
   "outputs": [],
   "source": [
    "import docx\n",
    "\n",
    "def read_tables(filename):\n",
    "\tdoc = docx.Document(filename)\n",
    "\ttables = doc.tables\n",
    "\tparagraphs = doc.paragraphs\n",
    "\n",
    "\ttable_name = \"\"\n",
    "\ttable_properties = []\n",
    "\n",
    "\tfor paragraph in paragraphs:\n",
    "\t\tif paragraph.text.strip() != \"\":\n",
    "\t\t\tif paragraph.text.startswith(\"Điều\"):\n",
    "\t\t\t\tif table_name != \"\":\n",
    "\t\t\t\t\tprint(\"Table Name:\", table_name)\n",
    "\t\t\t\t\tprint(\"Table Properties:\", table_properties)\n",
    "\t\t\t\t\tprint(\"------------------------\")\n",
    "\t\t\t\t\ttable_properties = []\n",
    "\t\t\t\ttable_name = paragraph.text\n",
    "\t\t\telse:\n",
    "\t\t\t\ttable_properties.append(paragraph.text)\n",
    "\n",
    "\tif table_name != \"\":\n",
    "\t\tprint(\"Table Name:\", table_name)\n",
    "\t\tprint(\"Table Properties:\", table_properties)\n",
    "\n",
    "filename = \"67_2014_QH13_259729.docx\"\n",
    "read_tables(filename)"
   ]
  },
  {
   "cell_type": "code",
   "execution_count": 4,
   "metadata": {},
   "outputs": [
    {
     "name": "stdout",
     "output_type": "stream",
     "text": [
      "Table Name: Điều 1. Phạm vi điều chỉnh\n",
      "First Row: ['QUỐC HỘI\\n--------', 'CỘNG HÒA XÃ HỘI CHỦ NGHĨA VIỆT NAM\\nĐộc lập - Tự do - Hạnh phúc \\n---------------']\n",
      "------------------------\n",
      "Table Name: Điều 1. Phạm vi điều chỉnh\n",
      "First Row: ['\\xa0', 'CHỦ TỊCH QUỐC HỘI\\n\\n\\n\\n\\nNguyễn Sinh Hùng']\n",
      "------------------------\n",
      "Table Name: Điều 1. Phạm vi điều chỉnh\n",
      "First Row: ['TT', 'Tên chất', 'Tên khoa học', 'Mã thông tin CAS']\n",
      "------------------------\n",
      "Table Name: Điều 1. Phạm vi điều chỉnh\n",
      "First Row: ['STT', 'Tên hóa chất', 'Số CAS', 'Mã số HS']\n",
      "------------------------\n",
      "Table Name: Điều 1. Phạm vi điều chỉnh\n",
      "First Row: ['TT', 'Tên Việt Nam', 'Tên khoa học']\n",
      "------------------------\n",
      "Table Name: Điều 1. Phạm vi điều chỉnh\n",
      "First Row: ['STT', 'Tên Việt Nam', 'Tên khoa học']\n",
      "------------------------\n",
      "Table Name: Điều 1. Phạm vi điều chỉnh\n",
      "First Row: ['STT', 'Ngành, nghề']\n",
      "------------------------\n"
     ]
    }
   ],
   "source": [
    "import docx\n",
    "\n",
    "def read_tables(filename):\n",
    "\tdoc = docx.Document(filename)\n",
    "\tparagraphs = doc.paragraphs\n",
    "\ttables = doc.tables\n",
    "\n",
    "\tfor table in tables:\n",
    "\t\t# Print lines right before the table\n",
    "\t\tfor paragraph in paragraphs:\n",
    "\t\t\tif paragraph.text.strip() != \"\":\n",
    "\t\t\t\tif paragraph.text.startswith(\"Điều\"):\n",
    "\t\t\t\t\tprint(\"Table Name:\", paragraph.text)\n",
    "\t\t\t\t\tbreak\n",
    "\n",
    "\t\t# Print the first row of the table\n",
    "\t\tfor row in table.rows:\n",
    "\t\t\trow_data = [cell.text for cell in row.cells]\n",
    "\t\t\tprint(\"First Row:\", row_data)\n",
    "\t\t\tbreak\n",
    "\n",
    "\t\tprint(\"------------------------\")\n",
    "\n",
    "filename = \"67_2014_QH13_259729.docx\"\n",
    "read_tables(filename)"
   ]
  },
  {
   "cell_type": "code",
   "execution_count": 3,
   "metadata": {},
   "outputs": [
    {
     "name": "stdout",
     "output_type": "stream",
     "text": [
      "  \n",
      "\n",
      "LUẬT \n",
      "\n",
      "ĐẦU TƯ \n",
      "\n",
      "Căn cứ Hiến pháp nước Cộng hòa xã hội chủ nghĩa Việt Nam;  \n",
      "\n",
      "Quốc hội ban hành Luật đầu tư. \n",
      "\n",
      "Chương I \n",
      "\n",
      "NHỮNG QUY ĐỊNH CHUNG \n",
      "\n",
      "Điều 1. Phạm vi điều chỉnh \n",
      "\n",
      "Luật này quy định về hoạt động đầu tư kinh doanh tại Việt Nam và hoạt động đầu tư kinh doanh từ Việt Nam ra nước ngoài. \n",
      "\n",
      "Điều 2. Đối tượng áp dụng \n",
      "\n"
     ]
    }
   ],
   "source": [
    "docu = readdocx(\"67_2014_QH13_259729.docx\")\n",
    "\n",
    "paranum = len(docu)\n",
    "for para in docu[:10]:\n",
    "    print(para, \"\\n\")"
   ]
  }
 ],
 "metadata": {
  "kernelspec": {
   "display_name": "Python 3",
   "language": "python",
   "name": "python3"
  },
  "language_info": {
   "codemirror_mode": {
    "name": "ipython",
    "version": 3
   },
   "file_extension": ".py",
   "mimetype": "text/x-python",
   "name": "python",
   "nbconvert_exporter": "python",
   "pygments_lexer": "ipython3",
   "version": "3.11.2"
  }
 },
 "nbformat": 4,
 "nbformat_minor": 2
}
