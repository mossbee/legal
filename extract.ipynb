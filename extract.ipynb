{
 "cells": [
  {
   "cell_type": "code",
   "execution_count": 1,
   "metadata": {},
   "outputs": [],
   "source": [
    "# Import the BeautifulSoup library\n",
    "from bs4 import BeautifulSoup\n",
    "\n",
    "# Open and read the 'test.html' file\n",
    "with open('test.html', 'r', encoding='utf-8') as file:\n",
    "    html_content = file.read()\n",
    "\n",
    "# Parse the HTML content\n",
    "soup = BeautifulSoup(html_content, 'html.parser')\n",
    "\n",
    "# Find all the <a> tags to extract the links\n",
    "links = soup.find_all('a')\n",
    "\n",
    "# Open a new text file to save the links\n",
    "with open('links.txt', 'w', encoding='utf-8') as file:\n",
    "    for link in links:\n",
    "        href = link.get('href')\n",
    "        if href:  # Ensure href is not None\n",
    "            file.write(href + '\\n')  # Write each link in a new line"
   ]
  }
 ],
 "metadata": {
  "kernelspec": {
   "display_name": "Python 3",
   "language": "python",
   "name": "python3"
  },
  "language_info": {
   "codemirror_mode": {
    "name": "ipython",
    "version": 3
   },
   "file_extension": ".py",
   "mimetype": "text/x-python",
   "name": "python",
   "nbconvert_exporter": "python",
   "pygments_lexer": "ipython3",
   "version": "3.11.2"
  }
 },
 "nbformat": 4,
 "nbformat_minor": 2
}
