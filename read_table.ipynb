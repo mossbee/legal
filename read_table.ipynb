{
 "cells": [
  {
   "cell_type": "code",
   "execution_count": null,
   "metadata": {},
   "outputs": [],
   "source": [
    "from docx import Document\n",
    "import pandas as pd\n",
    "\n",
    "# Open the .docx file\n",
    "doc = Document('67_2014_QH13_259729.docx')\n",
    "\n",
    "# Initialize an empty list to hold the dictionaries\n",
    "data = []\n",
    "\n",
    "# Iterate over the tables in the document\n",
    "for table in doc.tables:\n",
    "    # Get the column names from the first row of the table\n",
    "    keys = [cell.text for cell in table.rows[0].cells]\n",
    "\n",
    "    # Iterate over the rows in the table\n",
    "    for row in table.rows[1:]:\n",
    "        # Create a dictionary for this row\n",
    "        row_data = {keys[i]: cell.text for i, cell in enumerate(row.cells)}\n",
    "        # Append the dictionary to the list\n",
    "        data.append(row_data)\n",
    "\n",
    "# Convert the list of dictionaries to a DataFrame\n",
    "df = pd.DataFrame(data)\n",
    "\n",
    "# Print the DataFrame\n",
    "print(df)"
   ]
  },
  {
   "cell_type": "code",
   "execution_count": null,
   "metadata": {},
   "outputs": [],
   "source": [
    "from docx.api import Document\n",
    "\n",
    "# Load the first table from your document. In your example file,\n",
    "# there is only one table, so I just grab the first one.\n",
    "document = Document('Books.docx')\n",
    "table = document.tables[0]\n",
    "\n",
    "# Data will be a list of rows represented as dictionaries\n",
    "# containing each row's data.\n",
    "data = []\n",
    "\n",
    "\n",
    "keys = None\n",
    "for i, row in enumerate(table.rows):\n",
    "    text = (cell.text for cell in row.cells)\n",
    "\n",
    "    # Establish the mapping based on the first row\n",
    "    # headers; these will become the keys of our dictionary\n",
    "    if i == 0:\n",
    "        keys = tuple(text)\n",
    "        continue\n",
    "\n",
    "    # Construct a dictionary for this row, mapping\n",
    "    # keys to values for this row\n",
    "    row_data = dict(zip(keys, text))\n",
    "    data.append(row_data)"
   ]
  },
  {
   "cell_type": "code",
   "execution_count": 2,
   "metadata": {},
   "outputs": [
    {
     "name": "stdout",
     "output_type": "stream",
     "text": [
      "['Điều 7. Ngành, nghề đầu tư kinh doanh có điều kiện', '1. Ngành, nghề đầu tư kinh doanh có điều kiện là ngành, nghề mà việc thực hiện hoạt động đầu tư kinh doanh trong ngành, nghề đó phải đáp ứng điều kiện vì lý do quốc phòng, an ninh quốc gia, trật tự, an toàn xã hội, đạo đức xã hội, sức khỏe của cộng đồng.', '2. Danh mục ngành, nghề đầu tư kinh doanh có điều kiện được quy định tại Phụ lục 4 của Luật này.', '3. Điều kiện đầu tư kinh doanh đối với ngành, nghề quy định tại khoản 2 Điều này được quy định tại các luật, pháp lệnh, nghị định và điều ước quốc tế mà Cộng hòa xã hội chủ nghĩa Việt Nam là thành viên. Bộ, cơ quan ngang bộ, Hội đồng nhân dân, Ủy ban nhân dân các cấp, cơ quan, tổ chức, cá nhân khác không được ban hành quy định về điều kiện đầu tư kinh doanh.', '4. Điều kiện đầu tư kinh doanh phải được quy định phù hợp với mục tiêu quy định tại khoản 1 Điều này và phải bảo đảm công khai, minh bạch, khách quan, tiết kiệm thời gian, chi phí tuân thủ của nhà đầu tư.', '5. Ngành, nghề đầu tư kinh doanh có điều kiện và điều kiện đầu tư kinh doanh đối với ngành, nghề đó phải được đăng tải trên Cổng thông tin đăng ký doanh nghiệp quốc gia.', '6. Chính phủ quy định chi tiết việc công bố và kiểm soát điều kiện đầu tư kinh doanh.', 'Điều 70. Hệ thống thông tin quốc gia về đầu tư', '1. Hệ thống thông tin quốc gia về đầu tư bao gồm:', 'a) Hệ thống thông tin quốc gia về đầu tư trong nước;', 'b) Hệ thống thông tin quốc gia về đầu tư nước ngoài vào Việt Nam và đầu tư của Việt Nam ra nước ngoài.', '2. Bộ Kế hoạch và Đầu tư chủ trì, phối hợp với các cơ quan có liên quan xây dựng và vận hành Hệ thống thông tin quốc gia về đầu tư; đánh giá việc vận hành hệ thống của cơ quan quản lý nhà nước về đầu tư ở Trung ương và địa phương.', '3. Cơ quan quản lý nhà nước về đầu tư và nhà đầu tư có trách nhiệm cập nhật đầy đủ, kịp thời, chính xác các thông tin liên quan vào Hệ thống thông tin quốc gia về đầu tư.', '4. Thông tin về dự án đầu tư lưu trữ tại Hệ thống thông tin quốc gia về đầu tư có giá trị pháp lý là thông tin gốc về dự án đầu tư.', 'Điều 71. Chế độ báo cáo hoạt động đầu tư tại Việt Nam', '1. Đối tượng thực hiện chế độ báo cáo:', 'a) Bộ, cơ quan ngang bộ, Ủy ban nhân dân cấp tỉnh;', 'b) Cơ quan đăng ký đầu tư;', 'c) Nhà đầu tư, tổ chức kinh tế thực hiện dự án đầu tư theo quy định của Luật này.', '2. Chế độ báo cáo định kỳ:', 'a) Hàng tháng, hàng quý, hàng năm, nhà đầu tư, tổ chức kinh tế thực hiện dự án đầu tư báo cáo cơ quan đăng ký đầu tư và cơ quan thống kê trên địa bàn về tình hình thực hiện dự án đầu tư, gồm các nội dung: vốn đầu tư thực hiện, kết quả hoạt động đầu tư kinh doanh, thông tin về lao động, nộp ngân sách nhà nước, đầu tư cho nghiên cứu và phát triển, xử lý và bảo vệ môi trường và các chỉ tiêu chuyên ngành theo lĩnh vực hoạt động;', 'b) Hàng tháng, hàng quý, hàng năm, cơ quan đăng ký đầu tư báo cáo Bộ Kế hoạch và Đầu tư và Ủy ban nhân dân cấp tỉnh về tình hình tiếp nhận, cấp, điều chỉnh, thu hồi Giấy chứng nhận đăng ký đầu tư và tình hình hoạt động của các dự án đầu tư thuộc phạm vi quản lý;', 'c) Hàng quý, hàng năm, Ủy ban nhân dân cấp tỉnh tổng hợp, báo cáo Bộ Kế hoạch và Đầu tư về tình hình đầu tư trên địa bàn;', 'd) Hàng quý, hàng năm, các bộ, cơ quan ngang bộ báo cáo về tình hình cấp, điều chỉnh, thu hồi Giấy chứng nhận đăng ký đầu tư hoặc các giấy tờ có giá trị tương đương khác thuộc phạm vi quản lý (nếu có); báo cáo về hoạt động đầu tư liên quan đến phạm vi quản lý của ngành và gửi Bộ Kế hoạch và Đầu tư để tổng hợp báo cáo Thủ tướng Chính phủ;', 'đ) Hàng quý, hàng năm, Bộ Kế hoạch và Đầu tư báo cáo Thủ tướng Chính phủ về tình hình đầu tư trên phạm vi cả nước và báo cáo đánh giá về tình hình thực hiện chế độ báo cáo đầu tư của các cơ quan quy định tại khoản 1 Điều này.', '3. Cơ quan, nhà đầu tư và tổ chức kinh tế thực hiện báo cáo bằng văn bản và thông qua Hệ thống thông tin quốc gia về đầu tư.', '4. Cơ quan, nhà đầu tư, tổ chức kinh tế quy định tại khoản 1 Điều này thực hiện báo cáo đột xuất khi có yêu cầu của cơ quan nhà nước có thẩm quyền.', '5. Đối với các dự án không thuộc diện cấp Giấy chứng nhận đăng ký đầu tư, nhà đầu tư báo cáo cơ quan đăng ký đầu tư trước khi bắt đầu thực hiện dự án đầu tư.', 'Điều 72. Chế độ báo cáo hoạt động đầu tư ở nước ngoài', '1. Đối tượng thực hiện chế độ báo cáo:', 'a) Bộ, cơ quan ngang bộ, Ủy ban nhân dân cấp tỉnh;', 'b) Cơ quan đăng ký đầu tư ra nước ngoài;', 'c) Nhà đầu tư thực hiện dự án đầu tư theo quy định của Luật này.', '2. Chế độ báo cáo của các bộ, cơ quan ngang bộ, Ủy ban nhân dân cấp tỉnh:', 'a) Định kỳ 06 tháng và hàng năm, các bộ, cơ quan ngang bộ, Ủy ban nhân dân cấp tỉnh có báo cáo tình hình quản lý nhà nước đối với hoạt động đầu tư ra nước ngoài theo chức năng, nhiệm vụ của mình gửi Bộ Kế hoạch và Đầu tư tổng hợp, báo cáo Thủ tướng Chính phủ;', 'b) Định kỳ 06 tháng, hàng năm, Bộ Kế hoạch và Đầu tư báo cáo Thủ tướng Chính phủ về tình hình đầu tư trên phạm vi cả nước và báo cáo đánh giá về tình hình thực hiện chế độ báo cáo tình hình quản lý hoạt động đầu tư ra nước ngoài của cơ quan, tổ chức, cá nhân quy định tại khoản 1 Điều này.', '3. Chế độ báo cáo của nhà đầu tư:', 'a) Trong thời hạn 60 ngày kể từ ngày dự án đầu tư được chấp thuận hoặc cấp phép theo quy định của pháp luật nước tiếp nhận đầu tư, nhà đầu tư phải gửi thông báo bằng văn bản về việc thực hiện hoạt động đầu tư ở nước ngoài kèm theo bản sao văn bản chấp thuận dự án đầu tư hoặc tài liệu chứng minh quyền hoạt động đầu tư tại nước tiếp nhận đầu tư cho Bộ Kế hoạch và Đầu tư, Ngân hàng Nhà nước Việt Nam, Cơ quan đại diện Việt Nam tại nước tiếp nhận đầu tư;', 'b) Định kỳ hàng quý, hàng năm, nhà đầu tư gửi báo cáo tình hình hoạt động của dự án đầu tư cho Bộ Kế hoạch và Đầu tư, Ngân hàng Nhà nước Việt Nam, Cơ quan đại diện Việt Nam tại nước tiếp nhận đầu tư;', 'c) Trong thời hạn 06 tháng kể từ ngày có báo cáo quyết toán thuế hoặc văn bản có giá trị pháp lý tương đương theo quy định của pháp luật nước tiếp nhận đầu tư, nhà đầu tư báo cáo tình hình hoạt động của dự án đầu tư kèm theo báo cáo tài chính, báo cáo quyết toán thuế hoặc văn bản có giá trị pháp lý tương đương theo quy định của pháp luật nước tiếp nhận đầu tư gửi Bộ Kế hoạch và Đầu tư, Ngân hàng Nhà nước Việt Nam, Bộ Tài chính, Cơ quan đại diện Việt Nam tại nước tiếp nhận đầu tư và cơ quan quản lý nhà nước có thẩm quyền theo quy định của Luật này và quy định khác của pháp luật có liên quan;', 'd) Đối với dự án đầu tư ra nước ngoài có sử dụng vốn nhà nước, ngoài việc thực hiện chế độ báo cáo quy định tại các điểm a, b và c khoản này, nhà đầu tư phải thực hiện chế độ báo cáo đầu tư theo quy định của pháp luật về quản lý, sử dụng vốn nhà nước đầu tư vào sản xuất, kinh doanh tại doanh nghiệp.', '4. Báo cáo quy định tại khoản 2 và khoản 3 Điều này được thực hiện bằng văn bản và thông qua Hệ thống thông tin quốc gia về đầu tư.', '5. Các cơ quan, tổ chức và nhà đầu tư quy định tại khoản 1 Điều này thực hiện báo cáo đột xuất theo yêu cầu của cơ quan nhà nước có thẩm quyền khi có yêu cầu liên quan đến công tác quản lý nhà nước hoặc những vấn đề phát sinh liên quan đến dự án đầu tư.', 'Chương VII', 'TỔ CHỨC THỰC HIỆN', 'Điều 73. Xử lý vi phạm', '1. Tổ chức, cá nhân có hành vi vi phạm quy định của Luật này thì tùy theo tính chất, mức độ vi phạm mà bị xử lý kỷ luật, xử phạt vi phạm hành chính hoặc bị truy cứu trách nhiệm hình sự; trường hợp gây thiệt hại thì phải bồi thường theo quy định của pháp luật.', '2. Người lợi dụng chức vụ, quyền hạn cản trở hoạt động đầu tư kinh doanh, có hành vi sách nhiễu, gây phiền hà đối với nhà đầu tư, không thực thi công vụ theo quy định của pháp luật thì tùy theo tính chất, mức độ vi phạm mà bị xử lý kỷ luật hoặc bị truy cứu trách nhiệm hình sự.', 'Điều 74. Điều khoản chuyển tiếp', '1. Nhà đầu tư đã được cấp Giấy phép đầu tư, Giấy chứng nhận đầu tư trước ngày Luật này có hiệu lực thi hành được thực hiện dự án đầu tư theo Giấy phép đầu tư, Giấy chứng nhận đầu tư đã được cấp. Trường hợp có yêu cầu, cơ quan đăng ký đầu tư cấp đổi sang Giấy chứng nhận đăng ký đầu tư cho nhà đầu tư.', '2. Nhà đầu tư đã thực hiện dự án đầu tư trước ngày Luật này có hiệu lực thuộc trường hợp phải cấp Giấy chứng nhận đăng ký đầu tư hoặc thuộc diện phải quyết định chủ trương đầu tư theo quy định của Luật này thì không phải thực hiện thủ tục cấp Giấy chứng nhận đăng ký đầu tư, quyết định chủ trương đầu tư. Trường hợp có nhu cầu cấp Giấy chứng nhận đăng ký đầu tư, nhà đầu tư thực hiện thủ tục theo quy định tại Luật này.', '3. Điều kiện đầu tư kinh doanh quy định tại các văn bản quy phạm pháp luật ban hành trước ngày Luật này có hiệu lực thi hành trái với quy định tại khoản 3 Điều 7 của Luật này hết hiệu lực thi hành kể từ ngày 01 tháng 7 năm 2016.', '4. Chính phủ quy định chi tiết khoản 1 và khoản 2 Điều này.', 'Điều 75. Sửa đổi, bổ sung khoản 1 Điều 18 của Luật công nghệ cao số 21/2008/QH12', 'Khoản 1 Điều 18 của Luật công nghệ cao được sửa đổi, bổ sung như sau: “1. Doanh nghiệp công nghệ cao phải đáp ứng đủ các tiêu chí sau đây:', 'a) Sản xuất sản phẩm công nghệ cao thuộc Danh mục sản phẩm công nghệ cao được khuyến khích phát triển quy định tại Điều 6 Luật này;', 'b) Áp dụng các biện pháp thân thiện môi trường, tiết kiệm năng lượng trong sản xuất và quản lý chất lượng sản phẩm đạt tiêu chuẩn, quy chuẩn kỹ thuật của Việt Nam; trường hợp chưa có tiêu chuẩn, quy chuẩn kỹ thuật của Việt Nam thì áp dụng tiêu chuẩn của tổ chức quốc tế chuyên ngành;', 'c) Tiêu chí khác theo quy định của Thủ tướng Chính phủ.”.', 'Điều 76. Hiệu lực thi hành', '1. Luật này có hiệu lực thi hành từ ngày 01 tháng 7 năm 2015.', '2. Luật đầu tư số 59/2005/QH11 và Nghị quyết số 49/2010/QH12 của Quốc hội về dự án, công trình quan trọng quốc gia trình Quốc hội quyết định chủ trương đầu tư hết hiệu lực thi hành kể từ ngày Luật này có hiệu lực.', '3. Chính phủ, cơ quan có thẩm quyền quy định chi tiết các điều, khoản được giao trong Luật.', 'Luật này đã được Quốc hội nước Cộng hòa xã hội chủ nghĩa Việt Nam khóa XIII, kỳ họp thứ 8 thông qua ngày 26 tháng 11 năm 2014./.', '\\xa0', '\\xa0', 'PHỤ LỤC 1', 'DANH MỤC CÁC CHẤT MA TÚY CẤM ĐẦU TƯ KINH DOANH', 'Danh mục này bao gồm tất cả các muối bất kỳ khi nào có thể tồn tại của các chất thuộc danh mục nêu trên.', '\\xa0', 'PHỤ LỤC 2', 'DANH MỤC HÓA CHẤT, KHOÁNG VẬT', '\\xa0', 'PHỤ LỤC 3', 'DANH MỤC CÁC LOÀI HOANG DÃ NGUY CẤP, QUÝ, HIẾM \\nNHÓM I: Các loài hoang dã nguy cấp, quý, hiếm nghiêm cấm khai thác, sử dụng vì mục đích đầu tư kinh doanh', 'IA. Thực vật', 'IB. Động vật', '\\xa0', 'PHỤ LỤC 4', 'DANH MỤC NGÀNH, NGHỀ ĐẦU TƯ KINH DOANH CÓ ĐIỀU KIỆN', '\\xa0', '\\xa0', '\\xa0']\n"
     ]
    }
   ],
   "source": [
    "from docx import Document\n",
    "\n",
    "# Read the document\n",
    "doc = Document(\"67_2014_QH13_259729.docx\")\n",
    "\n",
    "# Initialize variables\n",
    "start = False\n",
    "paragraphs = []\n",
    "\n",
    "# Iterate over paragraphs\n",
    "for paragraph in doc.paragraphs:\n",
    "\t# Check if the paragraph starts with \"Điều 3\"\n",
    "\tif paragraph.text.startswith(\"Điều 7\"):\n",
    "\t\tstart = True\n",
    "\t# Check if the paragraph starts with \"Điều 4\"\n",
    "\telif paragraph.text.startswith(\"Điều 8\"):\n",
    "\t\tstart = False\n",
    "\t# Add the paragraph to the list if it's between \"Điều 3\" and \"Điều 4\"\n",
    "\tif start:\n",
    "\t\tparagraphs.append(paragraph.text)\n",
    "\n",
    "# Print the extracted paragraphs\n",
    "print(paragraphs)"
   ]
  },
  {
   "cell_type": "code",
   "execution_count": 1,
   "metadata": {},
   "outputs": [
    {
     "ename": "AttributeError",
     "evalue": "'CT_Tbl' object has no attribute 'iter_rows'",
     "output_type": "error",
     "traceback": [
      "\u001b[1;31m---------------------------------------------------------------------------\u001b[0m",
      "\u001b[1;31mAttributeError\u001b[0m                            Traceback (most recent call last)",
      "Cell \u001b[1;32mIn[1], line 15\u001b[0m\n\u001b[0;32m     11\u001b[0m                     \u001b[38;5;28mprint\u001b[39m(cell\u001b[38;5;241m.\u001b[39mtext)\n\u001b[0;32m     12\u001b[0m         \u001b[38;5;66;03m# Add more conditions here for other types of elements if necessary\u001b[39;00m\n\u001b[0;32m     13\u001b[0m \n\u001b[0;32m     14\u001b[0m \u001b[38;5;66;03m# Replace '67_2014_QH13_259729.docx' with the path to your .docx file\u001b[39;00m\n\u001b[1;32m---> 15\u001b[0m \u001b[43mprint_docx_elements\u001b[49m\u001b[43m(\u001b[49m\u001b[38;5;124;43m'\u001b[39;49m\u001b[38;5;124;43m67_2014_QH13_259729.docx\u001b[39;49m\u001b[38;5;124;43m'\u001b[39;49m\u001b[43m)\u001b[49m\n",
      "Cell \u001b[1;32mIn[1], line 9\u001b[0m, in \u001b[0;36mprint_docx_elements\u001b[1;34m(filename)\u001b[0m\n\u001b[0;32m      7\u001b[0m     \u001b[38;5;28mprint\u001b[39m(element\u001b[38;5;241m.\u001b[39mtext)\n\u001b[0;32m      8\u001b[0m \u001b[38;5;28;01melif\u001b[39;00m element\u001b[38;5;241m.\u001b[39mtag\u001b[38;5;241m.\u001b[39mendswith(\u001b[38;5;124m'\u001b[39m\u001b[38;5;124mtbl\u001b[39m\u001b[38;5;124m'\u001b[39m):  \u001b[38;5;66;03m# Table\u001b[39;00m\n\u001b[1;32m----> 9\u001b[0m     \u001b[38;5;28;01mfor\u001b[39;00m row \u001b[38;5;129;01min\u001b[39;00m \u001b[43melement\u001b[49m\u001b[38;5;241;43m.\u001b[39;49m\u001b[43miter_rows\u001b[49m():\n\u001b[0;32m     10\u001b[0m         \u001b[38;5;28;01mfor\u001b[39;00m cell \u001b[38;5;129;01min\u001b[39;00m row\u001b[38;5;241m.\u001b[39mcells:\n\u001b[0;32m     11\u001b[0m             \u001b[38;5;28mprint\u001b[39m(cell\u001b[38;5;241m.\u001b[39mtext)\n",
      "\u001b[1;31mAttributeError\u001b[0m: 'CT_Tbl' object has no attribute 'iter_rows'"
     ]
    }
   ],
   "source": [
    "from docx import Document\n",
    "\n",
    "def print_docx_elements(filename):\n",
    "    doc = Document(filename)\n",
    "    for element in doc.element.body:\n",
    "        if element.tag.endswith('p'):  # Paragraph\n",
    "            print(element.text)\n",
    "        elif element.tag.endswith('tbl'):  # Table\n",
    "            for row in element.iter_rows():\n",
    "                for cell in row.cells:\n",
    "                    print(cell.text)\n",
    "        # Add more conditions here for other types of elements if necessary\n",
    "\n",
    "# Replace '67_2014_QH13_259729.docx' with the path to your .docx file\n",
    "print_docx_elements('67_2014_QH13_259729.docx')"
   ]
  },
  {
   "cell_type": "code",
   "execution_count": null,
   "metadata": {},
   "outputs": [],
   "source": [
    "from docx import Document\n",
    "\n",
    "document = Document('67_2014_QH13_259729.docx')\n",
    "picCount = 0\n",
    "tabCount = 0\n",
    "for paragraph in document.paragraphs:\n",
    "    if picCount < len(document.inline_shapes):\n",
    "        print('\\033[1mPicture \\033[0m')\n",
    "        picCount += 1\n",
    "    elif paragraph.text:\n",
    "        print(paragraph.text)\n",
    "    elif tabCount < len(document.tables):\n",
    "        table = document.tables[tabCount]\n",
    "        data = []\n",
    "        keys = None\n",
    "        for i, row in enumerate(table.rows):\n",
    "            text = (cell.text for cell in row.cells)\n",
    "            if i == 0:\n",
    "                keys = tuple(text)\n",
    "                continue\n",
    "            row_data = dict(zip(keys, text))\n",
    "            data.append(row_data)\n",
    "        print('\\033[1mTable:\\033[0m', data)\n",
    "        tabCount += 1"
   ]
  }
 ],
 "metadata": {
  "kernelspec": {
   "display_name": "Python 3",
   "language": "python",
   "name": "python3"
  },
  "language_info": {
   "codemirror_mode": {
    "name": "ipython",
    "version": 3
   },
   "file_extension": ".py",
   "mimetype": "text/x-python",
   "name": "python",
   "nbconvert_exporter": "python",
   "pygments_lexer": "ipython3",
   "version": "3.11.2"
  }
 },
 "nbformat": 4,
 "nbformat_minor": 2
}
