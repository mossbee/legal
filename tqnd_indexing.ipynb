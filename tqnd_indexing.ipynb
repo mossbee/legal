{
 "cells": [
  {
   "cell_type": "code",
   "execution_count": 31,
   "metadata": {},
   "outputs": [],
   "source": [
    "import re\n",
    "import docx\n",
    "import json\n",
    "\n",
    "file_name = \"107_2016_QH13_280693_highlighted.docx\"\n",
    "\n",
    "doc = docx.Document(file_name)\n",
    "\n",
    "document_json = {\n",
    "    \"document\" : []\n",
    "}\n",
    "# Put a place holder for later indexing\n",
    "for para in doc.paragraphs:\n",
    "\t# if para.text is not \\xa0\n",
    "\tif para.text != '\\xa0':\n",
    "\t\tdocument_json[\"document\"].append({\n",
    "\t\t\t\"index\" : \"0.0.0.0\",\n",
    "\t\t\t\"text\" : para.text\n",
    "\t\t})\n",
    "\n",
    "document_data = document_json[\"document\"]\n",
    "    \n",
    "def roman_to_int(s):\n",
    "\trom_val = {'I': 1, 'V': 5, 'X': 10, 'L': 50, 'C': 100, 'D': 500, 'M': 1000}\n",
    "\tint_val = 0\n",
    "\tfor i in range(len(s)):\n",
    "\t\tif i > 0 and rom_val[s[i]] > rom_val[s[i - 1]]:\n",
    "\t\t\tint_val += rom_val[s[i]] - 2 * rom_val[s[i - 1]]\n",
    "\t\telse:\n",
    "\t\t\tint_val += rom_val[s[i]]\n",
    "\treturn int_val\n",
    "\n",
    "document_data_len = len(document_data)\n",
    "\n",
    "for i in range(1, document_data_len):\n",
    "\tprevious_element_index_list = document_data[i-1][\"index\"].split(\".\")\n",
    "\n",
    "\tprevious_element_chapter_number = int(previous_element_index_list[0])\n",
    "\tprevious_element_section_number = int(previous_element_index_list[1])\n",
    "\tprevious_element_subsection_number = int(previous_element_index_list[2])\n",
    "\tprevious_element_point_number = previous_element_index_list[3]\n",
    "\telement = document_data[i]\n",
    "\t# if element[\"text\"] starts with \"Chương\" then it is a chapter, update the index\n",
    "\tif element[\"text\"].startswith(\"Chương\"):\n",
    "\t\tsecond_element = element[\"text\"].split()[1]\n",
    "\t\tif (second_element[0] in ['I', 'V', 'X', 'L', 'C', 'D', 'M']):\n",
    "\t\t\t# if first character is a number then it is a chapter\n",
    "\t\t# chapter number is the first word right after \"Chương\"\n",
    "\t\t\tchapter_number = element[\"text\"].split()[1]\n",
    "\t\t\t# right now the chapter number is roman numeral, convert it to arabic numeral\n",
    "\t\t\tchapter_number = roman_to_int(chapter_number)\n",
    "\t\t\t# update the index\n",
    "\t\t\tindex_list = element[\"index\"].split(\".\")\n",
    "\t\t\tindex_list[0] = str(chapter_number)\n",
    "\t\t\telement[\"index\"] = \".\".join(index_list)\n",
    "\telif element[\"text\"].startswith(\"Điều\") and element[\"text\"].split()[1][0].isdigit():\n",
    "\t\t# section number is the first word right after \"Điều\", remove the dot at the end\n",
    "\t\tsection_number = element[\"text\"].split()[1][:-1]\n",
    "\t\t# update the index\n",
    "\t\tindex_list = element[\"index\"].split(\".\")\n",
    "\t\tindex_list[0] = str(previous_element_chapter_number)\n",
    "\t\tindex_list[1] = section_number\n",
    "\t\telement[\"index\"] = \".\".join(index_list)\n",
    "\t# else if element[\"text\"] starts with a number and a dot then it is a subsection, update the index\n",
    "\telif re.match(r\"^\\d+\\.\", element[\"text\"]):\n",
    "\t\t# subsection number is the first word, remove the dot at the end\n",
    "\t\tsubsection_number = element[\"text\"].split(\".\")[0]\n",
    "\t\t# update the index\n",
    "\t\tindex_list = element[\"index\"].split(\".\")\n",
    "\t\tindex_list[2] = subsection_number\n",
    "\t\tindex_list[1] = str(previous_element_section_number)\n",
    "\t\tindex_list[0] = str(previous_element_chapter_number)\n",
    "\t\telement[\"index\"] = \".\".join(index_list)\n",
    "\t# else if element[\"text\"] starts with a character and a ) then it is a point, update the index\n",
    "\telif re.match(r\"^[a-zđê]\\)\", element[\"text\"], re.IGNORECASE):\n",
    "\t\t# point number is the first character, remove the bracket at the end\n",
    "\t\tpoint_number = element[\"text\"].split(\")\")[0]\n",
    "\t\t# update the index\n",
    "\t\tindex_list = element[\"index\"].split(\".\")\n",
    "\t\tindex_list[3] = point_number\n",
    "\t\tindex_list[2] = str(previous_element_subsection_number)\n",
    "\t\tindex_list[1] = str(previous_element_section_number)\n",
    "\t\tindex_list[0] = str(previous_element_chapter_number)\n",
    "\t\telement[\"index\"] = \".\".join(index_list)\n",
    "\telse:\n",
    "\t\tindex_list = element[\"index\"].split(\".\")\n",
    "\t\tindex_list[0] = str(previous_element_chapter_number)\n",
    "\t\tindex_list[1] = str(previous_element_section_number)\n",
    "\t\tif previous_element_section_number != 0 and previous_element_subsection_number == 0:\n",
    "\t\t\tindex_list[2] = \"1\"\n",
    "\t\telif previous_element_subsection_number != 0 and previous_element_point_number == 0:\n",
    "\t\t\tindex_list[2] = str(previous_element_subsection_number)\n",
    "\t\t\tindex_list[3] = str(previous_element_point_number)\n",
    "\t\telif previous_element_point_number != 0:\n",
    "\t\t\tindex_list[2] = str(previous_element_subsection_number)\n",
    "\t\t\tindex_list[3] = str(previous_element_point_number)\n",
    "\t\telement[\"index\"] = \".\".join(index_list)\n",
    "\n",
    "# save document_data to json file\n",
    "with open(file_name[:-5] + '_indexed.json', 'w', encoding=\"utf-8\") as json_file:\n",
    "\tjson.dump(document_json, json_file, indent=4, ensure_ascii=False)\t"
   ]
  },
  {
   "cell_type": "code",
   "execution_count": 7,
   "metadata": {},
   "outputs": [
    {
     "name": "stdout",
     "output_type": "stream",
     "text": [
      "{'index': '0.0.0.0', 'text': '\\xa0'}\n"
     ]
    }
   ],
   "source": [
    "with open('108_2016_QH13_303284_highlighted.json', 'r', encoding=\"utf-8\") as json_file:\n",
    "\tdata = json.load(json_file)\n",
    "\tprint(data['document'][-1])"
   ]
  },
  {
   "cell_type": "code",
   "execution_count": 13,
   "metadata": {},
   "outputs": [
    {
     "data": {
      "text/plain": [
       "True"
      ]
     },
     "execution_count": 13,
     "metadata": {},
     "output_type": "execute_result"
    }
   ],
   "source": [
    "test = '53.'\n",
    "test[0].isdigit()"
   ]
  }
 ],
 "metadata": {
  "kernelspec": {
   "display_name": "Python 3",
   "language": "python",
   "name": "python3"
  },
  "language_info": {
   "codemirror_mode": {
    "name": "ipython",
    "version": 3
   },
   "file_extension": ".py",
   "mimetype": "text/x-python",
   "name": "python",
   "nbconvert_exporter": "python",
   "pygments_lexer": "ipython3",
   "version": "3.11.2"
  }
 },
 "nbformat": 4,
 "nbformat_minor": 2
}
