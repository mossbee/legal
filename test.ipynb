{
 "cells": [
  {
   "cell_type": "code",
   "execution_count": 7,
   "metadata": {},
   "outputs": [
    {
     "name": "stdout",
     "output_type": "stream",
     "text": [
      "a is in test_dict\n",
      "{'a': 1, 'b': 2, 'c': 3, 'd': 4, 'e': [5, 6, 7, 8, 9]}\n"
     ]
    }
   ],
   "source": [
    "test_dict = {\n",
    "    'a': 1,\n",
    "    'b': 2,\n",
    "    'c': 3,\n",
    "    'd': 4\n",
    "}\n",
    "\n",
    "if 'a' in test_dict:\n",
    "\tprint('a is in test_dict')\n",
    "\n",
    "if 'f' in test_dict:\n",
    "\tprint('f is in test_dict')\n",
    "\n",
    "if 'e' in test_dict:\n",
    "\tprint('e is in test_dict')\n",
    "else:\n",
    "\t# create a new key-value pair\n",
    "\ttest_dict['e'] = [5, 6, 7, 8]\n",
    "\n",
    "test_dict['e'].append(9)\n",
    "\n",
    "print (test_dict)"
   ]
  }
 ],
 "metadata": {
  "kernelspec": {
   "display_name": "Python 3",
   "language": "python",
   "name": "python3"
  },
  "language_info": {
   "codemirror_mode": {
    "name": "ipython",
    "version": 3
   },
   "file_extension": ".py",
   "mimetype": "text/x-python",
   "name": "python",
   "nbconvert_exporter": "python",
   "pygments_lexer": "ipython3",
   "version": "3.11.2"
  }
 },
 "nbformat": 4,
 "nbformat_minor": 2
}
